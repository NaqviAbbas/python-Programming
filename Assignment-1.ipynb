{
 "cells": [
  {
   "cell_type": "code",
   "execution_count": 1,
   "metadata": {},
   "outputs": [
    {
     "name": "stdout",
     "output_type": "stream",
     "text": [
      "Twinkle, twinkle, little star,\n",
      "      How I wonder what you are!\n",
      "             Up above the world so high,\n",
      "             Like a diamond in the sky.\n",
      "Twinkle, twinkle, little star,\n",
      "      How I wonder what you are!\n"
     ]
    }
   ],
   "source": [
    "#Question # 1: Write a Python program to print the following string in a specific format (see the output). \n",
    "print(\"Twinkle, twinkle, little star,\")\n",
    "print(\"      How I wonder what you are!\")\n",
    "print(\"             Up above the world so high,\")\n",
    "print(\"             Like a diamond in the sky.\")\n",
    "print(\"Twinkle, twinkle, little star,\")\n",
    "print(\"      How I wonder what you are!\")\n"
   ]
  },
  {
   "cell_type": "code",
   "execution_count": 3,
   "metadata": {},
   "outputs": [
    {
     "name": "stdout",
     "output_type": "stream",
     "text": [
      "3.7.4 (default, Aug  9 2019, 18:34:13) [MSC v.1915 64 bit (AMD64)]\n"
     ]
    }
   ],
   "source": [
    "#Question # 2: Write a Python program to get the Python version you are using\n",
    "import sys\n",
    "print(sys.version)"
   ]
  },
  {
   "cell_type": "code",
   "execution_count": 4,
   "metadata": {},
   "outputs": [
    {
     "name": "stdout",
     "output_type": "stream",
     "text": [
      "2019-11-03 13:14:18.283431\n"
     ]
    }
   ],
   "source": [
    "#Question # 3: Write a Python program to display the current date and time\n",
    "import datetime\n",
    "print(datetime.datetime.now())"
   ]
  },
  {
   "cell_type": "code",
   "execution_count": 6,
   "metadata": {},
   "outputs": [
    {
     "name": "stdout",
     "output_type": "stream",
     "text": [
      "Enter radius of circle4.32\n",
      "58.599936000000014\n"
     ]
    }
   ],
   "source": [
    "#Question # 4: Write a Python program which accepts the radius of a circle from the user and compute the area\n",
    "PI=3.14\n",
    "radius=float(input(\"Enter radius of circle\"))\n",
    "area_of_circle=PI*radius*radius\n",
    "print(area_of_circle)"
   ]
  },
  {
   "cell_type": "code",
   "execution_count": 7,
   "metadata": {},
   "outputs": [
    {
     "name": "stdout",
     "output_type": "stream",
     "text": [
      "Enter First Name: Muzammal\n",
      "Enter Last Name: Mukhtar\n",
      "Mukhtar Muzammal\n"
     ]
    }
   ],
   "source": [
    "#Question # 5: Write a Python program which accepts the user's first and last name and print them in reverse order with a space between them.\n",
    "firstName=input(\"Enter First Name: \")\n",
    "lastName=input(\"Enter Last Name: \")\n",
    "print(lastName+\" \"+firstName)"
   ]
  },
  {
   "cell_type": "code",
   "execution_count": 8,
   "metadata": {},
   "outputs": [
    {
     "name": "stdout",
     "output_type": "stream",
     "text": [
      "Enter first number: 342\n",
      "Enter second number: 829\n",
      "1171\n"
     ]
    }
   ],
   "source": [
    "#Question # 6: Write a python program which takes two inputs from user and print them addition\n",
    "firstNumber=int(input(\"Enter first number: \"))\n",
    "secondNumber=int(input(\"Enter second number: \"))\n",
    "print(firstNumber+secondNumber)"
   ]
  },
  {
   "cell_type": "code",
   "execution_count": null,
   "metadata": {},
   "outputs": [],
   "source": []
  }
 ],
 "metadata": {
  "kernelspec": {
   "display_name": "Python 3",
   "language": "python",
   "name": "python3"
  },
  "language_info": {
   "codemirror_mode": {
    "name": "ipython",
    "version": 3
   },
   "file_extension": ".py",
   "mimetype": "text/x-python",
   "name": "python",
   "nbconvert_exporter": "python",
   "pygments_lexer": "ipython3",
   "version": "3.7.4"
  }
 },
 "nbformat": 4,
 "nbformat_minor": 2
}
