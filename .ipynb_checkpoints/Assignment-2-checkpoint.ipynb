{
 "cells": [
  {
   "cell_type": "code",
   "execution_count": 2,
   "metadata": {
    "scrolled": true
   },
   "outputs": [
    {
     "name": "stdout",
     "output_type": "stream",
     "text": [
      "Enter English Marks : 34\n",
      "Enter English Marks : 65\n",
      "Enter English Marks : 76\n",
      "Enter English Marks : 87\n",
      "Enter English Marks : 98\n",
      "Total Marks: 360\n",
      "Grade : B\n"
     ]
    }
   ],
   "source": [
    "'''Question 1: Write a program which takes 5 inputs from user for different subject's marks, total it and generate mark sheed using grades?'''\n",
    "math=int(input(\"Enter English Marks : \"))\n",
    "english=int(input(\"Enter English Marks : \"))\n",
    "urdu=int(input(\"Enter English Marks : \"))\n",
    "chemistry=int(input(\"Enter English Marks : \"))\n",
    "physics=int(input(\"Enter English Marks : \"))\n",
    "total_marks=math+english+urdu+chemistry+physics\n",
    "print(\"Total Marks: \" + str(total_marks))\n",
    "marks_Percentage=(total_marks/500)*100\n",
    "if(marks_Percentage>80):\n",
    "    print(\"Grade : A\")\n",
    "elif(marks_Percentage>60):\n",
    "    print(\"Grade : B\")\n",
    "elif(marks_Percentage>40):\n",
    "    print(\"Grade : C\")\n",
    "else:\n",
    "    print(\"Fail\")"
   ]
  },
  {
   "cell_type": "code",
   "execution_count": 5,
   "metadata": {},
   "outputs": [
    {
     "name": "stdout",
     "output_type": "stream",
     "text": [
      "Enter a number : 21\n",
      "Odd Number\n"
     ]
    }
   ],
   "source": [
    "'''Write a program which take input from user and identigy that the given nubmer is even or odd?'''\n",
    "number=int(input(\"Enter a number : \"))\n",
    "if(number%2==0):\n",
    "    print(\"Even Number\")\n",
    "else:\n",
    "    print(\"Odd Number\")"
   ]
  },
  {
   "cell_type": "code",
   "execution_count": 9,
   "metadata": {},
   "outputs": [
    {
     "name": "stdout",
     "output_type": "stream",
     "text": [
      "Length of list : 10\n"
     ]
    }
   ],
   "source": [
    "'''Write a program which print the length of the list?'''\n",
    "a=[3,42,23,4321,234,324,34,23,534,234]\n",
    "print(\"Length of list : \"+str(len(a)))"
   ]
  },
  {
   "cell_type": "code",
   "execution_count": 11,
   "metadata": {},
   "outputs": [
    {
     "name": "stdout",
     "output_type": "stream",
     "text": [
      "Sum : 1872\n"
     ]
    }
   ],
   "source": [
    "'''Write a python program to sum all the numeric items in a list?'''\n",
    "list_of_numbers=[3,42,23,421,234,324,34,23,534,234]\n",
    "sum=0\n",
    "for f in list_of_numbers:\n",
    "    sum=sum+f\n",
    "print(\"Sum : \"+str(sum))"
   ]
  },
  {
   "cell_type": "code",
   "execution_count": 12,
   "metadata": {},
   "outputs": [
    {
     "name": "stdout",
     "output_type": "stream",
     "text": [
      "Maximum number in list : 534\n"
     ]
    }
   ],
   "source": [
    "'''Write a python program to get the largest number from a numberic list?'''\n",
    "list_of_numbers=[3,42,23,421,234,324,34,23,534,234]\n",
    "print(\"Maximum number in list : \"+str(max(list_of_numbers)))"
   ]
  },
  {
   "cell_type": "code",
   "execution_count": 13,
   "metadata": {},
   "outputs": [
    {
     "name": "stdout",
     "output_type": "stream",
     "text": [
      "Number less than 5 : 1\n",
      "Number less than 5 : 1\n",
      "Number less than 5 : 2\n",
      "Number less than 5 : 3\n"
     ]
    }
   ],
   "source": [
    "'''Take a list, say for example this one: a=[1,1,2,3,5,8,13,21,34,55,89] and write a program that prints out all the elements of the list that are less than 5'''\n",
    "a=[1,1,2,3,5,8,13,21,34,55,89]\n",
    "for num in a:\n",
    "    if(num<5):\n",
    "        print(\"Number less than 5 : \"+str(num))"
   ]
  },
  {
   "cell_type": "code",
   "execution_count": null,
   "metadata": {},
   "outputs": [],
   "source": []
  }
 ],
 "metadata": {
  "kernelspec": {
   "display_name": "Python 3",
   "language": "python",
   "name": "python3"
  },
  "language_info": {
   "codemirror_mode": {
    "name": "ipython",
    "version": 3
   },
   "file_extension": ".py",
   "mimetype": "text/x-python",
   "name": "python",
   "nbconvert_exporter": "python",
   "pygments_lexer": "ipython3",
   "version": "3.7.4"
  }
 },
 "nbformat": 4,
 "nbformat_minor": 2
}
