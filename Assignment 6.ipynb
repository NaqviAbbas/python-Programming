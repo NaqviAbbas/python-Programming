{
 "cells": [
  {
   "cell_type": "markdown",
   "metadata": {},
   "source": [
    "# Question 1: \n",
    "Define Object Oriented Programming Language? \n",
    "Answer:\n",
    "Object Oriented Programming Language refers to a type of computer programming in which programmers define not only the data type of a data structure, but also the types of operations that can be applied to the data structure. It help to reduce the complexity and also improve the maintainability of the system. When combined with the concepts of the Encapsulation and Polymorphism, Abstraction gives more power to the OPP languages."
   ]
  },
  {
   "cell_type": "markdown",
   "metadata": {},
   "source": [
    "# Question 2: \n",
    "List down the Benefits of OOP?\n",
    "Answer:\n",
    "It provides a clear modular structure for programs which makes it goot for defining abstract datatypes in which implementation details are hidden. Objects can also be reused within an across apllications. The resue of software also lowers the cost of development."
   ]
  },
  {
   "cell_type": "markdown",
   "metadata": {},
   "source": [
    "# Question 3: \n",
    "Differentiate between function and method?\n",
    "Answer:\n",
    "A function is a piece of code that is called by name. A method is piece3 of code that is called by a anme that is associated with an object. In most respects it is identical to a function except for two key differences. Amethod is implicitly passed the object on which it was called."
   ]
  },
  {
   "cell_type": "markdown",
   "metadata": {},
   "source": [
    "# Question 4: \n",
    "Define the following terms: 1. Class 2. Object 3. Attribute 4. Behavior \n",
    "Answer:\n",
    "    1. Class\n",
    "         Class is a blueprint of an object. The class defines all the common properties of the different objects that belong to it.\n",
    "    2. Object\n",
    "         Object is a self-contained entity that consistes of both data and procedures to manipulate the data.\n",
    "    3. Attribute\n",
    "         An Attribute is a named property of a class. It has a type. It describe the range of values that property may hold. Attribe may be Name, Location, Datys Offered and Credit Hours.\n",
    "    4. Behavior\n",
    "         Behavior are the tasks that an object performs. A person behavior, for example, include the fact that a person can speak, run, walk and eat."
   ]
  },
  {
   "cell_type": "markdown",
   "metadata": {},
   "source": [
    "# Question 5: \n",
    "Write a code in python in which create a class named it Car which have 5 attributes such like (model, color and name etc.) and 3 methods. And create 5 object instance from that class.\n"
   ]
  },
  {
   "cell_type": "code",
   "execution_count": 2,
   "metadata": {},
   "outputs": [
    {
     "name": "stdout",
     "output_type": "stream",
     "text": [
      "Car Name: Toyota\n",
      "Car Model: 2019\n",
      "Car Color: Blue\n",
      "Car Power: 3244cc\n",
      "Enter more object(1/0): 1\n",
      "Car Name: Honda\n",
      "Car Model: 2020\n",
      "Car Color: White\n",
      "Car Power: 2343cc\n",
      "Enter more object(1/0): 1\n",
      "Car Name: Honda\n",
      "Car Model: 2019\n",
      "Car Color: White\n",
      "Car Power: 2332cc\n",
      "Enter more object(1/0): 1\n",
      "Car Name: Farari\n",
      "Car Model: 2020\n",
      "Car Color: Ywllow\n",
      "Car Power: 2343cc\n",
      "Enter more object(1/0): 1\n",
      "Car Name: Honda Braq\n",
      "Car Model: 2020\n",
      "Car Color: Black\n",
      "Car Power: 3243cc\n",
      "Enter more object(1/0): 0\n",
      "Total Objects: 5\n",
      "Current Speed of Toyota after accelarate: 10\n",
      "Current Speed of Honda after accelarate: 5\n",
      "Current Speed of Honda after accelarate: 5\n",
      "Current Speed of Honda Braq after accelarate: 5\n",
      "Current Speed of Honda after brake: 0\n"
     ]
    }
   ],
   "source": [
    "class Car:\n",
    "    def __init__(self,name,model,color,power,speed):\n",
    "        self.name=name\n",
    "        self.model=model\n",
    "        self.color=color\n",
    "        self.power=power\n",
    "        self.speed=speed\n",
    "    def accelarate(self):\n",
    "        self.speed+=5\n",
    "    def brake(self):\n",
    "        self.speed-=5\n",
    "    def get_speed(self):\n",
    "        return self.speed\n",
    "list=[]\n",
    "while(True):   \n",
    "    name=input(\"Car Name: \")\n",
    "    model=int(input(\"Car Model: \"))\n",
    "    color=input(\"Car Color: \")\n",
    "    power=input(\"Car Power: \")\n",
    "    speed=0;\n",
    "    list.append(Car(name,model,color,power,speed))\n",
    "    flag=False\n",
    "    flag=int(input(\"Enter more object(1/0): \"))\n",
    "    if(flag==0):\n",
    "        break\n",
    "print(\"Total Objects: \"+str(len(list)))\n",
    "list[0].accelarate()\n",
    "list[0].accelarate()\n",
    "print(\"Current Speed of \"+str(list[0].name)+\" after accelarate: \"+str(list[0].get_speed()))\n",
    "list[2].accelarate()\n",
    "print(\"Current Speed of \"+str(list[2].name)+\" after accelarate: \"+str(list[2].get_speed()))\n",
    "list[1].accelarate()\n",
    "print(\"Current Speed of \"+str(list[1].name)+\" after accelarate: \"+str(list[1].get_speed()))\n",
    "list[4].accelarate()\n",
    "print(\"Current Speed of \"+str(list[4].name)+\" after accelarate: \"+str(list[4].get_speed()))\n",
    "list[1].brake()\n",
    "print(\"Current Speed of \"+str(list[1].name)+\" after brake: \"+str(list[1].get_speed()))"
   ]
  }
 ],
 "metadata": {
  "kernelspec": {
   "display_name": "Python 3",
   "language": "python",
   "name": "python3"
  },
  "language_info": {
   "codemirror_mode": {
    "name": "ipython",
    "version": 3
   },
   "file_extension": ".py",
   "mimetype": "text/x-python",
   "name": "python",
   "nbconvert_exporter": "python",
   "pygments_lexer": "ipython3",
   "version": "3.7.5"
  }
 },
 "nbformat": 4,
 "nbformat_minor": 2
}
